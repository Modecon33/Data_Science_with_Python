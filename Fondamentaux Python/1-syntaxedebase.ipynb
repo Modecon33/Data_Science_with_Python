{
 "cells": [
  {
   "cell_type": "markdown",
   "metadata": {},
   "source": [
    "## 🔹 1. Introduction à Python\n",
    "Python est un langage simple et lisible, idéal pour le Machine Learning.\n",
    "\n",
    "💻 Installation de Python\n",
    "Si tu ne l’as pas encore, installe Python et Jupyter Notebook (très utile pour coder) :\n",
    "\n",
    "Télécharge Python et installe-le.\n"
   ]
  },
  {
   "cell_type": "markdown",
   "metadata": {},
   "source": [
    " ## 2. Syntaxe de Base\n",
    "🟢 **Variables et Types** de Données<br>\n",
    "En Python, tu peux stocker des données dans des variables sans préciser leur type."
   ]
  },
  {
   "cell_type": "code",
   "execution_count": 1,
   "metadata": {},
   "outputs": [
    {
     "name": "stdout",
     "output_type": "stream",
     "text": [
      "5 3.14 Alice True\n"
     ]
    }
   ],
   "source": [
    "# Déclaration de variables\n",
    "x = 5       # Entier (int)\n",
    "y = 3.14    # Nombre à virgule (float)\n",
    "nom = \"Alice\"  # Chaîne de caractères (string)\n",
    "is_ml_engineer = True  # Booléen (bool)\n",
    "\n",
    "# Affichage\n",
    "print(x, y, nom, is_ml_engineer)\n"
   ]
  },
  {
   "cell_type": "markdown",
   "metadata": {},
   "source": [
    "### 🟢 Opérations de Base\n",
    "Python peut faire des calculs mathématiques facilement :"
   ]
  },
  {
   "cell_type": "code",
   "execution_count": 2,
   "metadata": {},
   "outputs": [
    {
     "name": "stdout",
     "output_type": "stream",
     "text": [
      "13\n",
      "7\n",
      "30\n",
      "3.3333333333333335\n",
      "3\n",
      "1\n",
      "1000\n"
     ]
    }
   ],
   "source": [
    "a = 10\n",
    "b = 3\n",
    "print(a + b)  # Addition\n",
    "print(a - b)  # Soustraction\n",
    "print(a * b)  # Multiplication\n",
    "print(a / b)  # Division\n",
    "print(a // b)  # Division entière\n",
    "print(a % b)  # Modulo (reste de la division)\n",
    "print(a ** b)  # Exponentiation (puissance)\n"
   ]
  },
  {
   "cell_type": "markdown",
   "metadata": {},
   "source": [
    "### 🟢 Conditions (if, elif, else)\n",
    "Python permet de tester des conditions logiques."
   ]
  },
  {
   "cell_type": "code",
   "execution_count": 3,
   "metadata": {},
   "outputs": [
    {
     "name": "stdout",
     "output_type": "stream",
     "text": [
      "Majeur\n"
     ]
    }
   ],
   "source": [
    "age = 20\n",
    "\n",
    "if age < 18:\n",
    "    print(\"Mineur\")\n",
    "elif age == 18:\n",
    "    print(\"Tout juste majeur\")\n",
    "else:\n",
    "    print(\"Majeur\")"
   ]
  },
  {
   "cell_type": "markdown",
   "metadata": {},
   "source": [
    "👉 Exercice : Déclare une variable age avec ta propre valeur et affiche-la."
   ]
  },
  {
   "cell_type": "code",
   "execution_count": 4,
   "metadata": {},
   "outputs": [
    {
     "name": "stdout",
     "output_type": "stream",
     "text": [
      "Mon âge est : 25\n"
     ]
    }
   ],
   "source": [
    "age = 25  # Remplace 25 par ton âge réel\n",
    "print(\"Mon âge est :\", age)"
   ]
  },
  {
   "cell_type": "markdown",
   "metadata": {},
   "source": [
    "👉 Exercice : Calcule 12^3 (12 puissance 3) et affiche le résultat."
   ]
  },
  {
   "cell_type": "code",
   "execution_count": 5,
   "metadata": {},
   "outputs": [
    {
     "name": "stdout",
     "output_type": "stream",
     "text": [
      "12 puissance 3 est : 1728\n"
     ]
    }
   ],
   "source": [
    "resultat = 12 ** 3\n",
    "print(\"12 puissance 3 est :\", resultat)"
   ]
  },
  {
   "cell_type": "markdown",
   "metadata": {},
   "source": [
    "👉 Exercice : Écris un programme qui vérifie si un nombre n est positif, négatif ou nul."
   ]
  },
  {
   "cell_type": "code",
   "execution_count": 6,
   "metadata": {},
   "outputs": [
    {
     "name": "stdout",
     "output_type": "stream",
     "text": [
      "Le nombre est négatif\n"
     ]
    }
   ],
   "source": [
    "n = -5  # Tu peux changer cette valeur\n",
    "\n",
    "if n > 0:\n",
    "    print(\"Le nombre est positif\")\n",
    "elif n < 0:\n",
    "    print(\"Le nombre est négatif\")\n",
    "else:\n",
    "    print(\"Le nombre est nul\")"
   ]
  },
  {
   "cell_type": "markdown",
   "metadata": {},
   "source": [
    "👉 Exercice : Affiche les nombres de 1 à 10 avec une boucle for."
   ]
  },
  {
   "cell_type": "code",
   "execution_count": 7,
   "metadata": {},
   "outputs": [
    {
     "name": "stdout",
     "output_type": "stream",
     "text": [
      "1\n",
      "2\n",
      "3\n",
      "4\n",
      "5\n",
      "6\n",
      "7\n",
      "8\n",
      "9\n",
      "10\n"
     ]
    }
   ],
   "source": [
    "for i in range(1, 11):\n",
    "    print(i)"
   ]
  },
  {
   "cell_type": "markdown",
   "metadata": {},
   "source": []
  },
  {
   "cell_type": "markdown",
   "metadata": {},
   "source": [
    "## 🔹 1. Les Listes (list)\n",
    "Une liste est une collection ordonnée et modifiable d’éléments."
   ]
  },
  {
   "cell_type": "markdown",
   "metadata": {},
   "source": [
    "#### 🟢 Déclaration et Accès aux éléments"
   ]
  },
  {
   "cell_type": "code",
   "execution_count": 8,
   "metadata": {},
   "outputs": [
    {
     "name": "stdout",
     "output_type": "stream",
     "text": [
      "pomme\n",
      "cerise\n"
     ]
    }
   ],
   "source": [
    "fruits = [\"pomme\", \"banane\", \"cerise\"]\n",
    "print(fruits[0])  # Affiche \"pomme\"\n",
    "print(fruits[-1])  # Dernier élément : \"cerise\""
   ]
  },
  {
   "cell_type": "markdown",
   "metadata": {},
   "source": [
    "#### 🟢 Modification et Ajout d’éléments"
   ]
  },
  {
   "cell_type": "code",
   "execution_count": 9,
   "metadata": {},
   "outputs": [
    {
     "name": "stdout",
     "output_type": "stream",
     "text": [
      "['pomme', 'mangue', 'orange', 'cerise', 'kiwi']\n"
     ]
    }
   ],
   "source": [
    "fruits[1] = \"orange\"  # Modifier \"banane\" en \"orange\"\n",
    "fruits.append(\"kiwi\")  # Ajouter un élément à la fin\n",
    "fruits.insert(1, \"mangue\")  # Insérer un élément à l’index 1\n",
    "print(fruits)"
   ]
  },
  {
   "cell_type": "markdown",
   "metadata": {},
   "source": [
    "#### 🟢 Suppression d’éléments"
   ]
  },
  {
   "cell_type": "code",
   "execution_count": 10,
   "metadata": {},
   "outputs": [
    {
     "name": "stdout",
     "output_type": "stream",
     "text": [
      "['orange', 'cerise', 'kiwi']\n"
     ]
    }
   ],
   "source": [
    "fruits.remove(\"pomme\")  # Supprime \"pomme\"\n",
    "del fruits[0]  # Supprime le premier élément\n",
    "print(fruits)"
   ]
  },
  {
   "cell_type": "markdown",
   "metadata": {},
   "source": [
    "### 🟢 Parcourir une liste (for)"
   ]
  },
  {
   "cell_type": "code",
   "execution_count": 11,
   "metadata": {},
   "outputs": [
    {
     "name": "stdout",
     "output_type": "stream",
     "text": [
      "orange\n",
      "cerise\n",
      "kiwi\n"
     ]
    }
   ],
   "source": [
    "for fruit in fruits:\n",
    "    print(fruit)"
   ]
  },
  {
   "cell_type": "markdown",
   "metadata": {},
   "source": [
    "## 🔹 1. Les Tuples (tuple)\n",
    "\n",
    "Un tuple est similaire à une liste, mais il est immuable (on ne peut pas le modifier après sa création)."
   ]
  },
  {
   "cell_type": "markdown",
   "metadata": {},
   "source": [
    "#### 🟢 Déclaration et Accès aux éléments"
   ]
  },
  {
   "cell_type": "code",
   "execution_count": 18,
   "metadata": {},
   "outputs": [
    {
     "name": "stdout",
     "output_type": "stream",
     "text": [
      "10\n",
      "20\n"
     ]
    }
   ],
   "source": [
    "coordonnees = (10, 20)\n",
    "print(coordonnees[0])  # Affiche 10\n",
    "print(coordonnees[1])  # Affiche 20"
   ]
  },
  {
   "cell_type": "markdown",
   "metadata": {},
   "source": [
    "#### 🟢 Immutabilité (non modifiable)"
   ]
  },
  {
   "cell_type": "code",
   "execution_count": null,
   "metadata": {},
   "outputs": [],
   "source": [
    "coordonnees[0] = 50  # ❌ Erreur ! Les tuples ne peuvent pas être modifiés"
   ]
  },
  {
   "cell_type": "markdown",
   "metadata": {},
   "source": [
    "#### 🟢 Utilisation dans les affectations multiples"
   ]
  },
  {
   "cell_type": "code",
   "execution_count": 21,
   "metadata": {},
   "outputs": [
    {
     "name": "stdout",
     "output_type": "stream",
     "text": [
      "5\n",
      "10\n"
     ]
    }
   ],
   "source": [
    "x, y = (5, 10)  # Décomposition d’un tuple\n",
    "print(x)  # 5\n",
    "print(y)  # 10"
   ]
  },
  {
   "cell_type": "markdown",
   "metadata": {},
   "source": [
    "#### 🟢 Tuple avec plusieurs types de données"
   ]
  },
  {
   "cell_type": "code",
   "execution_count": 22,
   "metadata": {},
   "outputs": [
    {
     "name": "stdout",
     "output_type": "stream",
     "text": [
      "('Alice', 25, 'Paris')\n"
     ]
    }
   ],
   "source": [
    "personne = (\"Alice\", 25, \"Paris\")\n",
    "print(personne)"
   ]
  },
  {
   "cell_type": "markdown",
   "metadata": {},
   "source": [
    "#### 🟢 Opérations sur les Tuples"
   ]
  },
  {
   "cell_type": "markdown",
   "metadata": {},
   "source": [
    "##### 🔄 Longueur d’un Tuple"
   ]
  },
  {
   "cell_type": "code",
   "execution_count": 23,
   "metadata": {},
   "outputs": [
    {
     "name": "stdout",
     "output_type": "stream",
     "text": [
      "4\n"
     ]
    }
   ],
   "source": [
    "t = (1, 2, 3, 4)\n",
    "print(len(t))  # Affiche 4"
   ]
  },
  {
   "cell_type": "markdown",
   "metadata": {},
   "source": [
    "##### 🔄 Concaténation et Répétition"
   ]
  },
  {
   "cell_type": "code",
   "execution_count": 24,
   "metadata": {},
   "outputs": [
    {
     "name": "stdout",
     "output_type": "stream",
     "text": [
      "(1, 2, 3, 4)\n",
      "(1, 2, 1, 2, 1, 2)\n"
     ]
    }
   ],
   "source": [
    "t1 = (1, 2)\n",
    "t2 = (3, 4)\n",
    "print(t1 + t2)  # (1, 2, 3, 4)\n",
    "print(t1 * 3)   # (1, 2, 1, 2, 1, 2)"
   ]
  },
  {
   "cell_type": "markdown",
   "metadata": {},
   "source": [
    "##### 🔄 Vérification d'un élément dans un Tuple"
   ]
  },
  {
   "cell_type": "code",
   "execution_count": 25,
   "metadata": {},
   "outputs": [
    {
     "name": "stdout",
     "output_type": "stream",
     "text": [
      "True\n",
      "False\n"
     ]
    }
   ],
   "source": [
    "t = (10, 20, 30)\n",
    "print(20 in t)  # True\n",
    "print(40 in t)  # False"
   ]
  },
  {
   "cell_type": "markdown",
   "metadata": {},
   "source": [
    "💡 **Exercice : Manipulation des Tuples en Python**  \n",
    "\n",
    "### 🎯 Objectif :\n",
    "1️⃣ Créer un **tuple** contenant **4 nombres**.  \n",
    "2️⃣ Décomposer ce tuple en **quatre variables distinctes** et les afficher.  "
   ]
  },
  {
   "cell_type": "markdown",
   "metadata": {},
   "source": [
    "#### ✅ **Solution en Python :**"
   ]
  },
  {
   "cell_type": "code",
   "execution_count": 26,
   "metadata": {},
   "outputs": [
    {
     "name": "stdout",
     "output_type": "stream",
     "text": [
      "Valeur de a : 10\n",
      "Valeur de b : 20\n",
      "Valeur de c : 30\n",
      "Valeur de d : 40\n"
     ]
    }
   ],
   "source": [
    "# Étape 1 : Création d'un tuple\n",
    "mon_tuple = (10, 20, 30, 40)\n",
    "\n",
    "# Étape 2 : Décomposition en variables\n",
    "a, b, c, d = mon_tuple\n",
    "\n",
    "# Étape 3 : Affichage des variables\n",
    "print(\"Valeur de a :\", a)\n",
    "print(\"Valeur de b :\", b)\n",
    "print(\"Valeur de c :\", c)\n",
    "print(\"Valeur de d :\", d)"
   ]
  },
  {
   "cell_type": "markdown",
   "metadata": {},
   "source": [
    "📌 **Explication :**  \n",
    "- `(10, 20, 30, 40)` est un **tuple** contenant **4 valeurs**.  \n",
    "- `a, b, c, d = mon_tuple` permet d'**affecter chaque valeur** du tuple à une variable distincte.  \n",
    "- `print()` affiche les valeurs obtenues.  \n",
    "\n",
    "🚀 **Ce concept s'appelle le \"dépacking\" d'un tuple en Python !**"
   ]
  },
  {
   "cell_type": "markdown",
   "metadata": {},
   "source": []
  },
  {
   "cell_type": "markdown",
   "metadata": {},
   "source": [
    "---"
   ]
  },
  {
   "cell_type": "markdown",
   "metadata": {},
   "source": [
    "## 🔹 2. Les Dictionnaires (dict)\n",
    "\n",
    "Un dictionnaire stocke des paires clé-valeur."
   ]
  },
  {
   "cell_type": "markdown",
   "metadata": {},
   "source": [
    "#### 🟢 Déclaration et Accès aux valeurs"
   ]
  },
  {
   "cell_type": "code",
   "execution_count": 12,
   "metadata": {},
   "outputs": [
    {
     "name": "stdout",
     "output_type": "stream",
     "text": [
      "Alice\n",
      "22\n"
     ]
    }
   ],
   "source": [
    "etudiant = {\"nom\": \"Alice\", \"âge\": 22, \"note\": 18}\n",
    "print(etudiant[\"nom\"])  # Affiche \"Alice\"\n",
    "print(etudiant.get(\"âge\"))  # Affiche 22"
   ]
  },
  {
   "cell_type": "markdown",
   "metadata": {},
   "source": [
    "#### 🟢 Modification et Ajout d’éléments"
   ]
  },
  {
   "cell_type": "code",
   "execution_count": 13,
   "metadata": {},
   "outputs": [
    {
     "name": "stdout",
     "output_type": "stream",
     "text": [
      "{'nom': 'Alice', 'âge': 23, 'note': 18, 'ville': 'Paris'}\n"
     ]
    }
   ],
   "source": [
    "etudiant[\"âge\"] = 23  # Modifier une valeur\n",
    "etudiant[\"ville\"] = \"Paris\"  # Ajouter une nouvelle clé-valeur\n",
    "print(etudiant)"
   ]
  },
  {
   "cell_type": "markdown",
   "metadata": {},
   "source": [
    "#### 🟢 Suppression d’éléments"
   ]
  },
  {
   "cell_type": "code",
   "execution_count": 14,
   "metadata": {},
   "outputs": [
    {
     "name": "stdout",
     "output_type": "stream",
     "text": [
      "{'nom': 'Alice', 'âge': 23, 'ville': 'Paris'}\n"
     ]
    }
   ],
   "source": [
    "del etudiant[\"note\"]  # Supprime la clé \"note\"\n",
    "print(etudiant)"
   ]
  },
  {
   "cell_type": "markdown",
   "metadata": {},
   "source": [
    "#### 🟢 Parcourir un dictionnaire"
   ]
  },
  {
   "cell_type": "code",
   "execution_count": 15,
   "metadata": {},
   "outputs": [
    {
     "name": "stdout",
     "output_type": "stream",
     "text": [
      "nom : Alice\n",
      "âge : 23\n",
      "ville : Paris\n"
     ]
    }
   ],
   "source": [
    "for cle, valeur in etudiant.items():\n",
    "    print(cle, \":\", valeur)"
   ]
  },
  {
   "cell_type": "markdown",
   "metadata": {},
   "source": [
    "👉 Exercice : Crée une liste de 5 nombres, remplace le 2ᵉ élément par 100, puis affiche la liste."
   ]
  },
  {
   "cell_type": "code",
   "execution_count": 16,
   "metadata": {},
   "outputs": [
    {
     "name": "stdout",
     "output_type": "stream",
     "text": [
      "Liste modifiée : [10, 100, 30, 40, 50]\n"
     ]
    }
   ],
   "source": [
    "# Création de la liste\n",
    "nombres = [10, 20, 30, 40, 50]\n",
    "\n",
    "# Remplacement du 2ᵉ élément (index 1) par 100\n",
    "nombres[1] = 100\n",
    "\n",
    "# Affichage de la liste modifiée\n",
    "print(\"Liste modifiée :\", nombres)"
   ]
  },
  {
   "cell_type": "markdown",
   "metadata": {},
   "source": [
    "👉 Exercice : Crée un dictionnaire avec nom, âge et ville, puis ajoute une clé métier."
   ]
  },
  {
   "cell_type": "code",
   "execution_count": 17,
   "metadata": {},
   "outputs": [
    {
     "name": "stdout",
     "output_type": "stream",
     "text": [
      "Dictionnaire modifié : {'nom': 'Alice', 'âge': 25, 'ville': 'Paris', 'métier': 'Ingénieur en ML'}\n"
     ]
    }
   ],
   "source": [
    "# Création du dictionnaire\n",
    "personne = {\"nom\": \"Alice\", \"âge\": 25, \"ville\": \"Paris\"}\n",
    "\n",
    "# Ajout d'une clé \"métier\"\n",
    "personne[\"métier\"] = \"Ingénieur en ML\"\n",
    "\n",
    "# Affichage du dictionnaire modifié\n",
    "print(\"Dictionnaire modifié :\", personne)"
   ]
  },
  {
   "cell_type": "markdown",
   "metadata": {},
   "source": []
  }
 ],
 "metadata": {
  "kernelspec": {
   "display_name": "env",
   "language": "python",
   "name": "python3"
  },
  "language_info": {
   "codemirror_mode": {
    "name": "ipython",
    "version": 3
   },
   "file_extension": ".py",
   "mimetype": "text/x-python",
   "name": "python",
   "nbconvert_exporter": "python",
   "pygments_lexer": "ipython3",
   "version": "3.13.2"
  }
 },
 "nbformat": 4,
 "nbformat_minor": 2
}
