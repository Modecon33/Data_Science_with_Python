{
 "cells": [
  {
   "cell_type": "markdown",
   "metadata": {},
   "source": [
    " ## Numpy\n",
    " \n",
    " NumPy est une bibliothèque essentielle pour le Machine Learning, car elle permet de manipuler des tableaux (arrays) efficacement."
   ]
  },
  {
   "cell_type": "markdown",
   "metadata": {},
   "source": [
    "## 🔹 1. Installation et Importation\n",
    "\n",
    "- pip install numpy\n",
    "- import numpy as np"
   ]
  },
  {
   "cell_type": "markdown",
   "metadata": {},
   "source": [
    "## 🔹 2. Création de Tableaux NumPy\n",
    "\n",
    "Contrairement aux listes Python, les tableaux NumPy sont plus rapides et optimisés."
   ]
  },
  {
   "cell_type": "markdown",
   "metadata": {},
   "source": [
    "#### 🟢 1D : Tableau Simple"
   ]
  },
  {
   "cell_type": "code",
   "execution_count": 2,
   "metadata": {},
   "outputs": [
    {
     "name": "stdout",
     "output_type": "stream",
     "text": [
      "[1 2 3 4 5]\n"
     ]
    }
   ],
   "source": [
    "import numpy as np\n",
    "\n",
    "arr = np.array([1, 2, 3, 4, 5])\n",
    "print(arr)"
   ]
  },
  {
   "cell_type": "markdown",
   "metadata": {},
   "source": [
    "#### 🟢 2D : Matrice"
   ]
  },
  {
   "cell_type": "code",
   "execution_count": 3,
   "metadata": {},
   "outputs": [
    {
     "name": "stdout",
     "output_type": "stream",
     "text": [
      "[[1 2 3]\n",
      " [4 5 6]]\n"
     ]
    }
   ],
   "source": [
    "matrice = np.array([[1, 2, 3], [4, 5, 6]])\n",
    "print(matrice)"
   ]
  },
  {
   "cell_type": "markdown",
   "metadata": {},
   "source": [
    "### 🟢 Zéros, Uns, Nombres Aléatoires"
   ]
  },
  {
   "cell_type": "code",
   "execution_count": 4,
   "metadata": {},
   "outputs": [
    {
     "data": {
      "text/plain": [
       "array([[0.42353465, 0.37915728, 0.20330777],\n",
       "       [0.75162235, 0.97963422, 0.29958879],\n",
       "       [0.6540601 , 0.66324388, 0.03902091]])"
      ]
     },
     "execution_count": 4,
     "metadata": {},
     "output_type": "execute_result"
    }
   ],
   "source": [
    "np.zeros((3, 3))  # Matrice 3x3 de zéros\n",
    "np.ones((2, 4))  # Matrice 2x4 de uns\n",
    "np.random.rand(3, 3)  # Matrice 3x3 avec des valeurs aléatoires"
   ]
  },
  {
   "cell_type": "markdown",
   "metadata": {},
   "source": [
    "## 🔹 3. Manipulation des Tableaux"
   ]
  },
  {
   "cell_type": "markdown",
   "metadata": {},
   "source": [
    "### 🟢 Accéder aux éléments"
   ]
  },
  {
   "cell_type": "code",
   "execution_count": 5,
   "metadata": {},
   "outputs": [
    {
     "name": "stdout",
     "output_type": "stream",
     "text": [
      "20\n",
      "40\n"
     ]
    }
   ],
   "source": [
    "arr = np.array([10, 20, 30, 40])\n",
    "print(arr[1])  # 20\n",
    "print(arr[-1])  # 40"
   ]
  },
  {
   "cell_type": "markdown",
   "metadata": {},
   "source": [
    "### 🟢 Slicing (Extraction de sous-tableaux)"
   ]
  },
  {
   "cell_type": "code",
   "execution_count": 6,
   "metadata": {},
   "outputs": [
    {
     "name": "stdout",
     "output_type": "stream",
     "text": [
      "[20 30 40]\n"
     ]
    }
   ],
   "source": [
    "arr = np.array([10, 20, 30, 40, 50])\n",
    "print(arr[1:4])  # [20 30 40]"
   ]
  },
  {
   "cell_type": "markdown",
   "metadata": {},
   "source": [
    "### 🟢 Modifier un élément"
   ]
  },
  {
   "cell_type": "code",
   "execution_count": 7,
   "metadata": {},
   "outputs": [
    {
     "name": "stdout",
     "output_type": "stream",
     "text": [
      "[10 20 99 40 50]\n"
     ]
    }
   ],
   "source": [
    "arr[2] = 99  # Change 30 en 99\n",
    "print(arr)  # [10 20 99 40 50]"
   ]
  },
  {
   "cell_type": "markdown",
   "metadata": {},
   "source": [
    "## 🔹 4. Opérations Mathématiques\n",
    "\n",
    "NumPy permet de faire des opérations vectorielles ultra-rapides."
   ]
  },
  {
   "cell_type": "code",
   "execution_count": 8,
   "metadata": {},
   "outputs": [
    {
     "name": "stdout",
     "output_type": "stream",
     "text": [
      "[5 7 9]\n",
      "[ 4 10 18]\n",
      "[1 4 9]\n",
      "[1.         1.41421356 1.73205081]\n"
     ]
    }
   ],
   "source": [
    "a = np.array([1, 2, 3])\n",
    "b = np.array([4, 5, 6])\n",
    "\n",
    "print(a + b)  # [5 7 9]\n",
    "print(a * b)  # [4 10 18]\n",
    "print(a ** 2)  # [1 4 9]\n",
    "print(np.sqrt(a))  # Racine carrée"
   ]
  },
  {
   "cell_type": "markdown",
   "metadata": {},
   "source": [
    "💡 **Exercice**  \n",
    "1️⃣ Crée une **matrice 3x3** avec des nombres de **1 à 9**.  \n",
    "2️⃣ Affiche **l’élément au centre** de la matrice.  \n",
    "3️⃣ Multiplie la **matrice par 2** et affiche le résultat.  "
   ]
  },
  {
   "cell_type": "code",
   "execution_count": 9,
   "metadata": {},
   "outputs": [
    {
     "name": "stdout",
     "output_type": "stream",
     "text": [
      "Élément central : 5\n",
      "Matrice multipliée par 2 :\n",
      " [[ 2  4  6]\n",
      " [ 8 10 12]\n",
      " [14 16 18]]\n"
     ]
    }
   ],
   "source": [
    "# 1️⃣ Création de la matrice 3x3\n",
    "matrice = np.array([[1, 2, 3], \n",
    "                    [4, 5, 6], \n",
    "                    [7, 8, 9]])\n",
    "\n",
    "# 2️⃣ Affichage de l’élément central\n",
    "print(\"Élément central :\", matrice[1, 1])\n",
    "\n",
    "# 3️⃣ Multiplication de la matrice par 2\n",
    "matrice_x2 = matrice * 2\n",
    "print(\"Matrice multipliée par 2 :\\n\", matrice_x2)"
   ]
  },
  {
   "cell_type": "markdown",
   "metadata": {},
   "source": [
    "🚀 **Concepts clés :**  \n",
    "✅ Une **matrice** est une structure en **2 dimensions** (tableau 2D).  \n",
    "✅ `matrice[1, 1]` permet d’**accéder à l’élément central** (indice **1,1**).  \n",
    "✅ `matrice * 2` **multiplie chaque élément** de la matrice par **2**.  "
   ]
  },
  {
   "cell_type": "markdown",
   "metadata": {},
   "source": []
  },
  {
   "cell_type": "markdown",
   "metadata": {},
   "source": [
    "# 🚀 Exercices Python : Manipulation des Structures de Données\n",
    "\n",
    "## 🔹 Exercice 1 : Manipulation des Listes\n",
    "1️⃣ Crée une liste contenant les nombres de 1 à 10.  \n",
    "2️⃣ Affiche le troisième élément de la liste.  \n",
    "3️⃣ Ajoute le nombre 11 à la fin de la liste.  \n",
    "4️⃣ Supprime le premier élément de la liste.  \n",
    "5️⃣ Affiche la liste mise à jour.  \n",
    "\n",
    "---\n",
    "\n",
    "## 🔹 Exercice 2 : Manipulation des Tuples\n",
    "1️⃣ Crée un tuple contenant trois chaînes de caractères.  \n",
    "2️⃣ Décompose ce tuple en trois variables et affiche-les.  \n",
    "3️⃣ Essaye de modifier un élément du tuple. Que se passe-t-il ?  \n",
    "\n",
    "---\n",
    "\n",
    "## 🔹 Exercice 3 : Opérations sur une Matrice (NumPy)\n",
    "1️⃣ Crée une matrice 3x3 contenant les nombres de 1 à 9.  \n",
    "2️⃣ Affiche l’élément situé au centre de la matrice.  \n",
    "3️⃣ Multiplie tous les éléments de la matrice par 2 et affiche le résultat.  \n",
    "4️⃣ Affiche la diagonale principale de la matrice.  \n",
    "\n",
    "---\n",
    "\n",
    "## 🔹 Exercice 4 : Dictionnaires en Python\n",
    "1️⃣ Crée un dictionnaire contenant les informations suivantes :\n",
    "   - `nom`: Alice\n",
    "   - `âge`: 25\n",
    "   - `ville`: Paris  \n",
    "2️⃣ Affiche la valeur associée à la clé `nom`.  \n",
    "3️⃣ Ajoute une nouvelle clé `profession` avec la valeur `\"Ingénieure\"`.  \n",
    "4️⃣ Modifie la valeur associée à la clé `ville` pour `\"Lyon\"`.  \n",
    "5️⃣ Supprime la clé `âge` du dictionnaire.  \n",
    "6️⃣ Affiche le dictionnaire mis à jour.  \n",
    "\n",
    "---\n",
    "\n",
    "## 🔹 Exercice 5 : Boucles et Conditions\n",
    "### 🔸 Partie 1\n",
    "1️⃣ Écris une boucle qui affiche les nombres de 1 à 10.  \n",
    "2️⃣ Remplace chaque multiple de 3 par `\"Fizz\"`.  \n",
    "\n",
    "### 🔸 Partie 2\n",
    "1️⃣ Écris une fonction `pair_ou_impair(n)` qui prend un nombre en entrée et retourne `\"Pair\"` s'il est pair et `\"Impair\"` sinon.  \n",
    "2️⃣ Teste la fonction avec différents nombres.  \n",
    "\n",
    "---\n",
    "\n",
    "## 🎯 Bonus : Exercices Avancés\n",
    "### 🔸 Exercice 6 : Manipulation des Chaînes de Caractères\n",
    "1️⃣ Demande à l'utilisateur de saisir une phrase.  \n",
    "2️⃣ Convertis la phrase en minuscules et remplace les espaces par des tirets `-`.  \n",
    "3️⃣ Affiche le nombre total de caractères dans la phrase (sans les espaces).  \n",
    "\n",
    "### 🔸 Exercice 7 : Génération de Nombres Aléatoires\n",
    "1️⃣ Génère une liste de 10 nombres aléatoires entre 1 et 100.  \n",
    "2️⃣ Trouve et affiche le nombre le plus grand et le plus petit de la liste.  \n",
    "3️⃣ Trie la liste par ordre croissant.  \n",
    "\n",
    "---\n",
    "\n",
    "🔥 **Prêt à relever le défi ? Bonne chance !** 😃💪\n"
   ]
  },
  {
   "cell_type": "markdown",
   "metadata": {},
   "source": [
    "### 🚀 Solutions des Exercices Python : Manipulation des Structures de Données"
   ]
  },
  {
   "cell_type": "markdown",
   "metadata": {},
   "source": [
    "### ✅ Exercice 1 : Manipulation des Liste"
   ]
  },
  {
   "cell_type": "code",
   "execution_count": 11,
   "metadata": {},
   "outputs": [
    {
     "name": "stdout",
     "output_type": "stream",
     "text": [
      "Troisième élément : 3\n",
      "Liste mise à jour : [2, 3, 4, 5, 6, 7, 8, 9, 10, 11]\n"
     ]
    }
   ],
   "source": [
    "# Création de la liste\n",
    "ma_liste = list(range(1, 11))\n",
    "\n",
    "# Affichage du troisième élément\n",
    "print(\"Troisième élément :\", ma_liste[2])\n",
    "\n",
    "# Ajout du nombre 11\n",
    "ma_liste.append(11)\n",
    "\n",
    "# Suppression du premier élément\n",
    "ma_liste.pop(0)\n",
    "\n",
    "# Affichage de la liste mise à jour\n",
    "print(\"Liste mise à jour :\", ma_liste)\n"
   ]
  },
  {
   "cell_type": "markdown",
   "metadata": {},
   "source": [
    "✅ Explication :\n",
    "- list(range(1, 11)) génère une liste de 1 à 10.\n",
    "- ma_liste[2] permet d'accéder au troisième élément.\n",
    "- .append(11) ajoute 11 à la fin de la liste.\n",
    "- .pop(0) supprime le premier élément.\n",
    "- La liste finale est affichée."
   ]
  },
  {
   "cell_type": "markdown",
   "metadata": {},
   "source": []
  },
  {
   "cell_type": "markdown",
   "metadata": {},
   "source": [
    "### ✅ Exercice 2 : Manipulation des Tuples"
   ]
  },
  {
   "cell_type": "code",
   "execution_count": 12,
   "metadata": {},
   "outputs": [
    {
     "name": "stdout",
     "output_type": "stream",
     "text": [
      "Langages : Python Java C++\n"
     ]
    }
   ],
   "source": [
    "# Création du tuple\n",
    "mon_tuple = (\"Python\", \"Java\", \"C++\")\n",
    "\n",
    "# Décomposition\n",
    "a, b, c = mon_tuple\n",
    "print(\"Langages :\", a, b, c)\n",
    "\n",
    "# Essai de modification\n",
    "# mon_tuple[0] = \"JavaScript\"  # Erreur !\n"
   ]
  },
  {
   "cell_type": "markdown",
   "metadata": {},
   "source": [
    "✅ Explication :\n",
    "- Les tuples sont immuables (on ne peut pas modifier leurs éléments après leur création).\n",
    "- Une affectation a, b, c = mon_tuple permet de décomposer le tuple."
   ]
  },
  {
   "cell_type": "markdown",
   "metadata": {},
   "source": [
    "### ✅ Exercice 3 : Opérations sur une Matrice (NumPy)"
   ]
  },
  {
   "cell_type": "code",
   "execution_count": 13,
   "metadata": {},
   "outputs": [
    {
     "name": "stdout",
     "output_type": "stream",
     "text": [
      "Élément central : 5\n",
      "Matrice multipliée par 2 :\n",
      " [[ 2  4  6]\n",
      " [ 8 10 12]\n",
      " [14 16 18]]\n",
      "Diagonale principale : [1 5 9]\n"
     ]
    }
   ],
   "source": [
    "# Création de la matrice 3x3\n",
    "matrice = np.array([[1, 2, 3], [4, 5, 6], [7, 8, 9]])\n",
    "\n",
    "# Affichage de l'élément central\n",
    "print(\"Élément central :\", matrice[1, 1])\n",
    "\n",
    "# Multiplication par 2\n",
    "matrice_double = matrice * 2\n",
    "print(\"Matrice multipliée par 2 :\\n\", matrice_double)\n",
    "\n",
    "# Affichage de la diagonale\n",
    "print(\"Diagonale principale :\", np.diag(matrice))\n"
   ]
  },
  {
   "cell_type": "markdown",
   "metadata": {},
   "source": [
    "✅ Explication :\n",
    "- np.array() crée une matrice NumPy.\n",
    "- matrice[1, 1] accède à l'élément du centre (indice 1,1).\n",
    "- matrice * 2 multiplie chaque élément par 2.\n",
    "- np.diag(matrice) extrait la diagonale principale."
   ]
  },
  {
   "cell_type": "markdown",
   "metadata": {},
   "source": []
  },
  {
   "cell_type": "markdown",
   "metadata": {},
   "source": [
    "### ✅ Exercice 4 : Dictionnaires en Python"
   ]
  },
  {
   "cell_type": "code",
   "execution_count": 14,
   "metadata": {},
   "outputs": [
    {
     "name": "stdout",
     "output_type": "stream",
     "text": [
      "Nom : Alice\n",
      "Dictionnaire mis à jour : {'nom': 'Alice', 'ville': 'Lyon', 'profession': 'Ingénieure'}\n"
     ]
    }
   ],
   "source": [
    "# Création du dictionnaire\n",
    "personne = {\"nom\": \"Alice\", \"âge\": 25, \"ville\": \"Paris\"}\n",
    "\n",
    "# Affichage du nom\n",
    "print(\"Nom :\", personne[\"nom\"])\n",
    "\n",
    "# Ajout de la profession\n",
    "personne[\"profession\"] = \"Ingénieure\"\n",
    "\n",
    "# Modification de la ville\n",
    "personne[\"ville\"] = \"Lyon\"\n",
    "\n",
    "# Suppression de l'âge\n",
    "del personne[\"âge\"]\n",
    "\n",
    "# Affichage du dictionnaire final\n",
    "print(\"Dictionnaire mis à jour :\", personne)\n"
   ]
  },
  {
   "cell_type": "markdown",
   "metadata": {},
   "source": [
    "✅ Explication :\n",
    "- **{}** définit un dictionnaire.\n",
    "- personne[\"nom\"] permet d'accéder à une valeur.\n",
    "- personne[\"clé\"] = valeur permet d'ajouter/modifier une clé.\n",
    "- **del** personne[\"âge\"] supprime une clé."
   ]
  },
  {
   "cell_type": "markdown",
   "metadata": {},
   "source": [
    "### ✅ Exercice 5 : Boucles et Conditions"
   ]
  },
  {
   "cell_type": "code",
   "execution_count": 15,
   "metadata": {},
   "outputs": [
    {
     "name": "stdout",
     "output_type": "stream",
     "text": [
      "1\n",
      "2\n",
      "Fizz\n",
      "4\n",
      "5\n",
      "Fizz\n",
      "7\n",
      "8\n",
      "Fizz\n",
      "10\n",
      "Pair\n",
      "Impair\n"
     ]
    }
   ],
   "source": [
    "# Affichage des nombres avec \"Fizz\"\n",
    "for i in range(1, 11):\n",
    "    if i % 3 == 0:\n",
    "        print(\"Fizz\")\n",
    "    else:\n",
    "        print(i)\n",
    "\n",
    "# Fonction pair ou impair\n",
    "def pair_ou_impair(n):\n",
    "    return \"Pair\" if n % 2 == 0 else \"Impair\"\n",
    "\n",
    "# Test de la fonction\n",
    "print(pair_ou_impair(4))  # Pair\n",
    "print(pair_ou_impair(7))  # Impair\n"
   ]
  },
  {
   "cell_type": "markdown",
   "metadata": {},
   "source": [
    "✅ Explication :\n",
    "- if i % 3 == 0 remplace les multiples de 3 par \"Fizz\".\n",
    "- return \"Pair\" if n % 2 == 0 else \"Impair\" est une condition ternaire."
   ]
  },
  {
   "cell_type": "markdown",
   "metadata": {},
   "source": [
    "### ✅ Exercice 6 : Manipulation des Chaînes de Caractères"
   ]
  },
  {
   "cell_type": "code",
   "execution_count": 16,
   "metadata": {},
   "outputs": [
    {
     "name": "stdout",
     "output_type": "stream",
     "text": [
      "Phrase modifiée : mamadou-va-à-l'école\n",
      "Nombre de caractères (sans espaces) : 17\n"
     ]
    }
   ],
   "source": [
    "# Entrée utilisateur\n",
    "phrase = input(\"Entrez une phrase : \")\n",
    "\n",
    "# Mise en minuscules et remplacement des espaces\n",
    "modifiee = phrase.lower().replace(\" \", \"-\")\n",
    "\n",
    "# Nombre de caractères sans espaces\n",
    "nb_caracteres = len(phrase.replace(\" \", \"\"))\n",
    "\n",
    "print(\"Phrase modifiée :\", modifiee)\n",
    "print(\"Nombre de caractères (sans espaces) :\", nb_caracteres)\n"
   ]
  },
  {
   "cell_type": "markdown",
   "metadata": {},
   "source": [
    "✅ Explication :\n",
    "- lower() convertit en minuscules.\n",
    "- replace(\" \", \"-\") remplace les espaces par -\n",
    "- len(phrase.replace(\" \", \"\")) compte les caractères sans espaces."
   ]
  },
  {
   "cell_type": "markdown",
   "metadata": {},
   "source": [
    "### ✅ Exercice 7 : Génération de Nombres Aléatoires"
   ]
  },
  {
   "cell_type": "code",
   "execution_count": 17,
   "metadata": {},
   "outputs": [
    {
     "name": "stdout",
     "output_type": "stream",
     "text": [
      "Liste : [28, 48, 87, 72, 78, 77, 95, 23, 74, 86]\n",
      "Plus grand : 95\n",
      "Plus petit : 23\n",
      "Liste triée : [23, 28, 48, 72, 74, 77, 78, 86, 87, 95]\n"
     ]
    }
   ],
   "source": [
    "import random\n",
    "\n",
    "# Génération de 10 nombres aléatoires\n",
    "nombres = [random.randint(1, 100) for _ in range(10)]\n",
    "\n",
    "# Affichage du min et max\n",
    "print(\"Liste :\", nombres)\n",
    "print(\"Plus grand :\", max(nombres))\n",
    "print(\"Plus petit :\", min(nombres))\n",
    "\n",
    "# Tri de la liste\n",
    "nombres.sort()\n",
    "print(\"Liste triée :\", nombres)\n"
   ]
  },
  {
   "cell_type": "markdown",
   "metadata": {},
   "source": [
    "✅ Explication :\n",
    "- random.randint(1, 100) génère un nombre aléatoire\n",
    "- max() et min() trouvent les extrêmes\n",
    "- sort() trie la liste"
   ]
  },
  {
   "cell_type": "markdown",
   "metadata": {},
   "source": []
  }
 ],
 "metadata": {
  "kernelspec": {
   "display_name": "env",
   "language": "python",
   "name": "python3"
  },
  "language_info": {
   "codemirror_mode": {
    "name": "ipython",
    "version": 3
   },
   "file_extension": ".py",
   "mimetype": "text/x-python",
   "name": "python",
   "nbconvert_exporter": "python",
   "pygments_lexer": "ipython3",
   "version": "3.13.2"
  }
 },
 "nbformat": 4,
 "nbformat_minor": 2
}
