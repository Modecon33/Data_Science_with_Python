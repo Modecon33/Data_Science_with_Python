{
 "cells": [
  {
   "cell_type": "markdown",
   "metadata": {},
   "source": [
    "# 📌 Exercices Pandas – Manipulation de Données  \n",
    "\n",
    "## 💡 Exercice 1 : Création et Exploration d'un DataFrame  \n",
    "1️⃣ Crée un DataFrame contenant les informations suivantes :  \n",
    "   - **Nom** : Alice, Bob, Charlie, David  \n",
    "   - **Âge** : 25, 30, 35, 40  \n",
    "   - **Ville** : Paris, Lyon, Marseille, Toulouse  \n",
    "2️⃣ Affiche les 2 premières lignes du DataFrame.  \n",
    "3️⃣ Affiche les statistiques descriptives du DataFrame.  \n",
    "\n",
    "---\n",
    "\n",
    "## 💡 Exercice 2 : Manipulation et Filtres  \n",
    "1️⃣ Ajoute une colonne **Salaire** avec les valeurs : 2500, 3000, 4000, 3500.  \n",
    "2️⃣ Filtre les personnes ayant un âge supérieur à 30.  \n",
    "3️⃣ Trie le DataFrame par ordre décroissant de salaire.  \n",
    "\n",
    "---\n",
    "\n",
    "## 💡 Exercice 3 : Importation et Analyse de Données  \n",
    "1️⃣ Charge un fichier CSV contenant des données de ventes.  \n",
    "2️⃣ Affiche les premières lignes et la taille du DataFrame.  \n",
    "3️⃣ Calcule la somme des ventes par produit.  \n",
    "\n",
    "---\n",
    "\n",
    "## 💡 Exercice 4 : Gestion des valeurs manquantes  \n",
    "1️⃣ Remplace les valeurs manquantes par la moyenne de la colonne concernée.  \n",
    "2️⃣ Supprime les lignes contenant des valeurs manquantes.  \n",
    "\n",
    "---\n",
    "\n",
    "## 💡 Exercice 5 : Groupement et Agrégation  \n",
    "1️⃣ Charge un DataFrame contenant des transactions.  \n",
    "2️⃣ Regroupe les données par catégorie de produit et calcule la somme des ventes.  \n",
    "3️⃣ Affiche les 5 produits les plus vendus.  \n",
    "\n",
    "🚀 **Objectif : Apprendre à manipuler des données avec Pandas pour l'analyse et la visualisation !**  \n"
   ]
  },
  {
   "cell_type": "markdown",
   "metadata": {},
   "source": [
    "### 📌 Exercice 1 : Création et Exploration d'un DataFrame "
   ]
  },
  {
   "cell_type": "code",
   "execution_count": 2,
   "metadata": {},
   "outputs": [],
   "source": [
    "import pandas as pd"
   ]
  },
  {
   "cell_type": "code",
   "execution_count": null,
   "metadata": {},
   "outputs": [
    {
     "data": {
      "text/html": [
       "<div>\n",
       "<style scoped>\n",
       "    .dataframe tbody tr th:only-of-type {\n",
       "        vertical-align: middle;\n",
       "    }\n",
       "\n",
       "    .dataframe tbody tr th {\n",
       "        vertical-align: top;\n",
       "    }\n",
       "\n",
       "    .dataframe thead th {\n",
       "        text-align: right;\n",
       "    }\n",
       "</style>\n",
       "<table border=\"1\" class=\"dataframe\">\n",
       "  <thead>\n",
       "    <tr style=\"text-align: right;\">\n",
       "      <th></th>\n",
       "      <th>Nom</th>\n",
       "      <th>Âge</th>\n",
       "      <th>Ville</th>\n",
       "    </tr>\n",
       "  </thead>\n",
       "  <tbody>\n",
       "    <tr>\n",
       "      <th>0</th>\n",
       "      <td>Alice</td>\n",
       "      <td>25</td>\n",
       "      <td>Paris</td>\n",
       "    </tr>\n",
       "    <tr>\n",
       "      <th>1</th>\n",
       "      <td>Bob</td>\n",
       "      <td>30</td>\n",
       "      <td>Lyon</td>\n",
       "    </tr>\n",
       "    <tr>\n",
       "      <th>2</th>\n",
       "      <td>Charlie</td>\n",
       "      <td>35</td>\n",
       "      <td>Marseille</td>\n",
       "    </tr>\n",
       "    <tr>\n",
       "      <th>3</th>\n",
       "      <td>David</td>\n",
       "      <td>40</td>\n",
       "      <td>Toulouse</td>\n",
       "    </tr>\n",
       "  </tbody>\n",
       "</table>\n",
       "</div>"
      ],
      "text/plain": [
       "       Nom  Âge      Ville\n",
       "0    Alice   25      Paris\n",
       "1      Bob   30       Lyon\n",
       "2  Charlie   35  Marseille\n",
       "3    David   40   Toulouse"
      ]
     },
     "execution_count": 4,
     "metadata": {},
     "output_type": "execute_result"
    }
   ],
   "source": [
    " \n",
    "# 1️⃣ Création du DataFrame\n",
    "data = {\n",
    "    \"Nom\": [\"Alice\", \"Bob\", \"Charlie\", \"David\"],\n",
    "    \"Âge\": [25, 30, 35, 40],\n",
    "    \"Ville\": [\"Paris\", \"Lyon\", \"Marseille\", \"Toulouse\"]\n",
    "}\n",
    "df = pd.DataFrame(data)\n",
    "df"
   ]
  },
  {
   "cell_type": "code",
   "execution_count": 5,
   "metadata": {},
   "outputs": [
    {
     "name": "stdout",
     "output_type": "stream",
     "text": [
      "     Nom  Âge  Ville\n",
      "0  Alice   25  Paris\n",
      "1    Bob   30   Lyon\n"
     ]
    }
   ],
   "source": [
    "# 2️⃣ Affichage des 2 premières lignes\n",
    "print(df.head(2))"
   ]
  },
  {
   "cell_type": "code",
   "execution_count": 6,
   "metadata": {},
   "outputs": [
    {
     "name": "stdout",
     "output_type": "stream",
     "text": [
      "             Âge\n",
      "count   4.000000\n",
      "mean   32.500000\n",
      "std     6.454972\n",
      "min    25.000000\n",
      "25%    28.750000\n",
      "50%    32.500000\n",
      "75%    36.250000\n",
      "max    40.000000\n"
     ]
    }
   ],
   "source": [
    "# 3️⃣ Affichage des statistiques descriptives\n",
    "print(df.describe())"
   ]
  },
  {
   "cell_type": "markdown",
   "metadata": {},
   "source": [
    "### 📌 Exercice 2 : Manipulation et Filtres "
   ]
  },
  {
   "cell_type": "code",
   "execution_count": 7,
   "metadata": {},
   "outputs": [
    {
     "data": {
      "text/html": [
       "<div>\n",
       "<style scoped>\n",
       "    .dataframe tbody tr th:only-of-type {\n",
       "        vertical-align: middle;\n",
       "    }\n",
       "\n",
       "    .dataframe tbody tr th {\n",
       "        vertical-align: top;\n",
       "    }\n",
       "\n",
       "    .dataframe thead th {\n",
       "        text-align: right;\n",
       "    }\n",
       "</style>\n",
       "<table border=\"1\" class=\"dataframe\">\n",
       "  <thead>\n",
       "    <tr style=\"text-align: right;\">\n",
       "      <th></th>\n",
       "      <th>Nom</th>\n",
       "      <th>Âge</th>\n",
       "      <th>Ville</th>\n",
       "      <th>Salaire</th>\n",
       "    </tr>\n",
       "  </thead>\n",
       "  <tbody>\n",
       "    <tr>\n",
       "      <th>0</th>\n",
       "      <td>Alice</td>\n",
       "      <td>25</td>\n",
       "      <td>Paris</td>\n",
       "      <td>2500</td>\n",
       "    </tr>\n",
       "    <tr>\n",
       "      <th>1</th>\n",
       "      <td>Bob</td>\n",
       "      <td>30</td>\n",
       "      <td>Lyon</td>\n",
       "      <td>3000</td>\n",
       "    </tr>\n",
       "    <tr>\n",
       "      <th>2</th>\n",
       "      <td>Charlie</td>\n",
       "      <td>35</td>\n",
       "      <td>Marseille</td>\n",
       "      <td>4000</td>\n",
       "    </tr>\n",
       "    <tr>\n",
       "      <th>3</th>\n",
       "      <td>David</td>\n",
       "      <td>40</td>\n",
       "      <td>Toulouse</td>\n",
       "      <td>3500</td>\n",
       "    </tr>\n",
       "  </tbody>\n",
       "</table>\n",
       "</div>"
      ],
      "text/plain": [
       "       Nom  Âge      Ville  Salaire\n",
       "0    Alice   25      Paris     2500\n",
       "1      Bob   30       Lyon     3000\n",
       "2  Charlie   35  Marseille     4000\n",
       "3    David   40   Toulouse     3500"
      ]
     },
     "execution_count": 7,
     "metadata": {},
     "output_type": "execute_result"
    }
   ],
   "source": [
    " # 1️⃣ Ajout d'une colonne \"Salaire\"\n",
    "df[\"Salaire\"] = [2500, 3000, 4000, 3500]\n",
    "df"
   ]
  },
  {
   "cell_type": "code",
   "execution_count": 8,
   "metadata": {},
   "outputs": [
    {
     "name": "stdout",
     "output_type": "stream",
     "text": [
      "       Nom  Âge      Ville  Salaire\n",
      "2  Charlie   35  Marseille     4000\n",
      "3    David   40   Toulouse     3500\n"
     ]
    }
   ],
   "source": [
    "# 2️⃣ Filtrer les personnes ayant un âge supérieur à 30\n",
    "df_filtre = df[df[\"Âge\"] > 30]\n",
    "print(df_filtre)"
   ]
  },
  {
   "cell_type": "code",
   "execution_count": 9,
   "metadata": {},
   "outputs": [
    {
     "name": "stdout",
     "output_type": "stream",
     "text": [
      "       Nom  Âge      Ville  Salaire\n",
      "2  Charlie   35  Marseille     4000\n",
      "3    David   40   Toulouse     3500\n",
      "1      Bob   30       Lyon     3000\n",
      "0    Alice   25      Paris     2500\n"
     ]
    }
   ],
   "source": [
    "# 3️⃣ Trier le DataFrame par ordre décroissant de salaire\n",
    "df_sorted = df.sort_values(by=\"Salaire\", ascending=False)\n",
    "print(df_sorted)"
   ]
  },
  {
   "cell_type": "markdown",
   "metadata": {},
   "source": [
    "### 📌 Exercice 3 : Importation et Analyse de Données  "
   ]
  },
  {
   "cell_type": "code",
   "execution_count": 12,
   "metadata": {},
   "outputs": [
    {
     "data": {
      "text/html": [
       "<div>\n",
       "<style scoped>\n",
       "    .dataframe tbody tr th:only-of-type {\n",
       "        vertical-align: middle;\n",
       "    }\n",
       "\n",
       "    .dataframe tbody tr th {\n",
       "        vertical-align: top;\n",
       "    }\n",
       "\n",
       "    .dataframe thead th {\n",
       "        text-align: right;\n",
       "    }\n",
       "</style>\n",
       "<table border=\"1\" class=\"dataframe\">\n",
       "  <thead>\n",
       "    <tr style=\"text-align: right;\">\n",
       "      <th></th>\n",
       "      <th>Produit</th>\n",
       "      <th>Ventes</th>\n",
       "      <th>Prix_Unitaire</th>\n",
       "    </tr>\n",
       "  </thead>\n",
       "  <tbody>\n",
       "    <tr>\n",
       "      <th>0</th>\n",
       "      <td>Ordinateur</td>\n",
       "      <td>150</td>\n",
       "      <td>1000</td>\n",
       "    </tr>\n",
       "    <tr>\n",
       "      <th>1</th>\n",
       "      <td>Smartphone</td>\n",
       "      <td>300</td>\n",
       "      <td>800</td>\n",
       "    </tr>\n",
       "    <tr>\n",
       "      <th>2</th>\n",
       "      <td>Tablette</td>\n",
       "      <td>200</td>\n",
       "      <td>500</td>\n",
       "    </tr>\n",
       "    <tr>\n",
       "      <th>3</th>\n",
       "      <td>Casque</td>\n",
       "      <td>120</td>\n",
       "      <td>150</td>\n",
       "    </tr>\n",
       "    <tr>\n",
       "      <th>4</th>\n",
       "      <td>Souris</td>\n",
       "      <td>180</td>\n",
       "      <td>50</td>\n",
       "    </tr>\n",
       "  </tbody>\n",
       "</table>\n",
       "</div>"
      ],
      "text/plain": [
       "      Produit  Ventes  Prix_Unitaire\n",
       "0  Ordinateur     150           1000\n",
       "1  Smartphone     300            800\n",
       "2    Tablette     200            500\n",
       "3      Casque     120            150\n",
       "4      Souris     180             50"
      ]
     },
     "execution_count": 12,
     "metadata": {},
     "output_type": "execute_result"
    }
   ],
   "source": [
    "import pandas as pd\n",
    "\n",
    "# 1️⃣ Création d'un DataFrame fictif\n",
    "data = {\n",
    "    \"Produit\": [\"Ordinateur\", \"Smartphone\", \"Tablette\", \"Casque\", \"Souris\"],\n",
    "    \"Ventes\": [150, 300, 200, 120, 180],\n",
    "    \"Prix_Unitaire\": [1000, 800, 500, 150, 50]\n",
    "}\n",
    "\n",
    "df_ventes = pd.DataFrame(data)\n",
    "df_ventes"
   ]
  },
  {
   "cell_type": "code",
   "execution_count": 13,
   "metadata": {},
   "outputs": [],
   "source": [
    "# 2️⃣ Sauvegarde du DataFrame en fichier CSV\n",
    "df_ventes.to_csv(\"ventes.csv\", index=False)"
   ]
  },
  {
   "cell_type": "markdown",
   "metadata": {},
   "source": [
    "- df_ventes.to_csv(\"C:/Users/TonNom/Documents/ventes.csv\", index=False)  # Sur Windows\n",
    "- df_ventes.to_csv(\"/home/tonnom/Documents/ventes.csv\", index=False)  # Sur Linux/Mac"
   ]
  },
  {
   "cell_type": "code",
   "execution_count": 15,
   "metadata": {},
   "outputs": [
    {
     "data": {
      "text/html": [
       "<div>\n",
       "<style scoped>\n",
       "    .dataframe tbody tr th:only-of-type {\n",
       "        vertical-align: middle;\n",
       "    }\n",
       "\n",
       "    .dataframe tbody tr th {\n",
       "        vertical-align: top;\n",
       "    }\n",
       "\n",
       "    .dataframe thead th {\n",
       "        text-align: right;\n",
       "    }\n",
       "</style>\n",
       "<table border=\"1\" class=\"dataframe\">\n",
       "  <thead>\n",
       "    <tr style=\"text-align: right;\">\n",
       "      <th></th>\n",
       "      <th>Produit</th>\n",
       "      <th>Ventes</th>\n",
       "      <th>Prix_Unitaire</th>\n",
       "    </tr>\n",
       "  </thead>\n",
       "  <tbody>\n",
       "    <tr>\n",
       "      <th>0</th>\n",
       "      <td>Ordinateur</td>\n",
       "      <td>150</td>\n",
       "      <td>1000</td>\n",
       "    </tr>\n",
       "    <tr>\n",
       "      <th>1</th>\n",
       "      <td>Smartphone</td>\n",
       "      <td>300</td>\n",
       "      <td>800</td>\n",
       "    </tr>\n",
       "    <tr>\n",
       "      <th>2</th>\n",
       "      <td>Tablette</td>\n",
       "      <td>200</td>\n",
       "      <td>500</td>\n",
       "    </tr>\n",
       "    <tr>\n",
       "      <th>3</th>\n",
       "      <td>Casque</td>\n",
       "      <td>120</td>\n",
       "      <td>150</td>\n",
       "    </tr>\n",
       "    <tr>\n",
       "      <th>4</th>\n",
       "      <td>Souris</td>\n",
       "      <td>180</td>\n",
       "      <td>50</td>\n",
       "    </tr>\n",
       "  </tbody>\n",
       "</table>\n",
       "</div>"
      ],
      "text/plain": [
       "      Produit  Ventes  Prix_Unitaire\n",
       "0  Ordinateur     150           1000\n",
       "1  Smartphone     300            800\n",
       "2    Tablette     200            500\n",
       "3      Casque     120            150\n",
       "4      Souris     180             50"
      ]
     },
     "execution_count": 15,
     "metadata": {},
     "output_type": "execute_result"
    }
   ],
   "source": [
    "# 3️⃣ Lecture du fichier CSV\n",
    "dfv = pd.read_csv(\"ventes.csv\")\n",
    "dfv"
   ]
  },
  {
   "cell_type": "code",
   "execution_count": 17,
   "metadata": {},
   "outputs": [
    {
     "name": "stdout",
     "output_type": "stream",
     "text": [
      "      Produit  Ventes  Prix_Unitaire\n",
      "0  Ordinateur     150           1000\n",
      "1  Smartphone     300            800\n",
      "2    Tablette     200            500\n",
      "3      Casque     120            150\n",
      "4      Souris     180             50\n"
     ]
    }
   ],
   "source": [
    "# 4️⃣ Affichage des premières lignes du fichier\n",
    "print(dfv.head())"
   ]
  },
  {
   "cell_type": "code",
   "execution_count": 18,
   "metadata": {},
   "outputs": [
    {
     "name": "stdout",
     "output_type": "stream",
     "text": [
      "      Produit  Ventes  Prix_Unitaire  Chiffre_Affaires\n",
      "0  Ordinateur     150           1000            150000\n",
      "1  Smartphone     300            800            240000\n",
      "2    Tablette     200            500            100000\n",
      "3      Casque     120            150             18000\n",
      "4      Souris     180             50              9000\n"
     ]
    }
   ],
   "source": [
    "# 5️⃣ Calcul du chiffre d'affaires par produit (Ventes * Prix_Unitaire)\n",
    "dfv[\"Chiffre_Affaires\"] = dfv[\"Ventes\"] * dfv[\"Prix_Unitaire\"]\n",
    "print(dfv)"
   ]
  },
  {
   "cell_type": "code",
   "execution_count": 19,
   "metadata": {},
   "outputs": [
    {
     "name": "stdout",
     "output_type": "stream",
     "text": [
      "Produit avec le plus grand chiffre d'affaires : Smartphone\n"
     ]
    }
   ],
   "source": [
    "# 6️⃣ Produit avec le plus grand chiffre d'affaires\n",
    "produit_max = dfv.loc[dfv[\"Chiffre_Affaires\"].idxmax()]\n",
    "print(\"Produit avec le plus grand chiffre d'affaires :\", produit_max[\"Produit\"])"
   ]
  },
  {
   "cell_type": "markdown",
   "metadata": {},
   "source": [
    "### 📌 Décomposition :\n",
    "\n",
    "1. dfv[\"Chiffre_Affaires\"] → Sélectionne la colonne \"Chiffre_Affaires\"\n",
    "2. idxmax() → Renvoie l'index de la ligne où \"Chiffre_Affaires\" est le plus grand\n",
    "3. dfv.loc[...] → Sélectionne la ligne correspondant à cet index"
   ]
  },
  {
   "cell_type": "markdown",
   "metadata": {},
   "source": [
    "## 📌 Différence entre `.loc[]` et `.iloc[]` en Pandas\n",
    "\n",
    "La différence entre .loc[] et .iloc[] en Pandas concerne la manière dont tu accèdes aux données dans un DataFrame :\n",
    "\n",
    "### 1️⃣ **`.loc[]` : Sélection par label (nom)**\n",
    "- Utilisé pour sélectionner des lignes ou des colonnes en fonction de **leurs noms** (index ou étiquettes).\n",
    "- **Syntaxe :**  \n",
    "  df.loc[row_label, column_label]\n",
    "\n",
    "- **Exemple :**\n",
    " **df.loc[2, \"Produit\"] :** Accède à la valeur dans la ligne d'index 2 et la colonne \"Produit\"\n",
    "\n",
    "### 2️⃣ **`.iloc[]` : Sélection par position (indice numérique)**\n",
    "- Utilisé pour sélectionner des lignes ou des colonnes en fonction de leurs positions numériques.\n",
    "- **Syntaxe :**\n",
    " df.iloc[row_index, column_index]\n",
    "\n",
    "- **Exemple :**\n",
    " **df.iloc[2, 1] :** Accède à la valeur de la 3e ligne (index 2) et la 2e colonne (index 1)\n",
    "\n",
    "---\n",
    "\n"
   ]
  },
  {
   "cell_type": "markdown",
   "metadata": {},
   "source": [
    "### 💡 Exercice : Manipulation de DataFrame avec Pandas\n",
    "\n",
    "## 🔹 Objectifs :\n",
    "1️⃣ Créer un DataFrame Pandas avec les colonnes `\"Nom\"`, `\"Âge\"`, et `\"Ville\"`.  \n",
    "2️⃣ Ajouter une nouvelle colonne `\"Score\"` avec des valeurs de votre choix.  \n",
    "3️⃣ Afficher les statistiques du DataFrame avec `.describe()`.  "
   ]
  },
  {
   "cell_type": "code",
   "execution_count": 3,
   "metadata": {},
   "outputs": [],
   "source": [
    "# 1️⃣ Création du DataFrame\n",
    "data = {\n",
    "    \"Nom\": [\"Alice\", \"Bob\", \"Charlie\", \"David\", \"Emma\"],\n",
    "    \"Âge\": [25, 30, 35, 40, 22],\n",
    "    \"Ville\": [\"Paris\", \"Lyon\", \"Marseille\", \"Toulouse\", \"Bordeaux\"]\n",
    "}\n",
    "df = pd.DataFrame(data)"
   ]
  },
  {
   "cell_type": "code",
   "execution_count": 4,
   "metadata": {},
   "outputs": [],
   "source": [
    "# 2️⃣ Ajout de la colonne \"Score\"\n",
    "df[\"Score\"] = [85, 90, 78, 92, 88]"
   ]
  },
  {
   "cell_type": "code",
   "execution_count": 5,
   "metadata": {},
   "outputs": [
    {
     "name": "stdout",
     "output_type": "stream",
     "text": [
      "             Âge      Score\n",
      "count   5.000000   5.000000\n",
      "mean   30.400000  86.600000\n",
      "std     7.300685   5.458938\n",
      "min    22.000000  78.000000\n",
      "25%    25.000000  85.000000\n",
      "50%    30.000000  88.000000\n",
      "75%    35.000000  90.000000\n",
      "max    40.000000  92.000000\n"
     ]
    }
   ],
   "source": [
    "# 3️⃣ Affichage des statistiques du DataFrame\n",
    "print(df.describe())"
   ]
  },
  {
   "cell_type": "markdown",
   "metadata": {},
   "source": [
    "| Statistique | Signification |\n",
    "|-------------|--------------|\n",
    "| `count` | Nombre total de valeurs (nombres valides) |\n",
    "| `mean` | Moyenne |\n",
    "| `std` | Écart-type |\n",
    "| `min` | Valeur minimale |\n",
    "| `25%` | 1er quartile (Q1 : 25% des valeurs en dessous) |\n",
    "| `50%` | Médiane (Q2 : 50% des valeurs en dessous) |\n",
    "| `75%` | 3e quartile (Q3 : 75% des valeurs en dessous) |\n",
    "| `max` | Valeur maximale |\n"
   ]
  },
  {
   "cell_type": "code",
   "execution_count": null,
   "metadata": {},
   "outputs": [],
   "source": []
  },
  {
   "cell_type": "markdown",
   "metadata": {},
   "source": []
  }
 ],
 "metadata": {
  "kernelspec": {
   "display_name": "env",
   "language": "python",
   "name": "python3"
  },
  "language_info": {
   "codemirror_mode": {
    "name": "ipython",
    "version": 3
   },
   "file_extension": ".py",
   "mimetype": "text/x-python",
   "name": "python",
   "nbconvert_exporter": "python",
   "pygments_lexer": "ipython3",
   "version": "3.13.2"
  }
 },
 "nbformat": 4,
 "nbformat_minor": 2
}
