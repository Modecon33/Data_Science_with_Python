{
 "cells": [
  {
   "cell_type": "markdown",
   "metadata": {},
   "source": [
    "## 🔹 1. Statistiques de Base avec NumPy"
   ]
  },
  {
   "cell_type": "markdown",
   "metadata": {},
   "source": [
    "### 🟢 Moyenne, Médiane, Variance et Écart-Type"
   ]
  },
  {
   "cell_type": "code",
   "execution_count": 1,
   "metadata": {},
   "outputs": [
    {
     "name": "stdout",
     "output_type": "stream",
     "text": [
      "Moyenne : 30.0\n",
      "Médiane : 30.0\n",
      "Variance : 200.0\n",
      "Écart-type : 14.142135623730951\n"
     ]
    }
   ],
   "source": [
    "import numpy as np\n",
    "\n",
    "# Création d'un tableau de données\n",
    "data = np.array([10, 20, 30, 40, 50])\n",
    "\n",
    "# Moyenne\n",
    "print(\"Moyenne :\", np.mean(data))  # (10+20+30+40+50)/5 = 30.0\n",
    "\n",
    "# Médiane (valeur centrale)\n",
    "print(\"Médiane :\", np.median(data))  # 30\n",
    "\n",
    "# Variance (dispersion des données)\n",
    "print(\"Variance :\", np.var(data))  # 200.0\n",
    "\n",
    "# Écart-type (dispersion des données)\n",
    "print(\"Écart-type :\", np.std(data))  # Racine de 200"
   ]
  },
  {
   "cell_type": "markdown",
   "metadata": {},
   "source": [
    "### 🟢 Distribution Normale (loi normale)\n",
    "\n",
    "En Machine Learning, beaucoup de phénomènes suivent une distribution normale (courbe en cloche)."
   ]
  },
  {
   "cell_type": "code",
   "execution_count": 7,
   "metadata": {},
   "outputs": [
    {
     "name": "stdout",
     "output_type": "stream",
     "text": [
      "[-2.07231754 -0.50582467 -0.43480132 -0.37034016 -0.93006498 -1.27781276\n",
      " -0.15950355 -1.77542848  1.70056908 -0.94963057]\n"
     ]
    }
   ],
   "source": [
    "# Générer 10 nombres suivant une distribution normale (moyenne=0, écart-type=1)\n",
    "normal_data = np.random.normal(0, 1, 10)\n",
    "print(normal_data)"
   ]
  },
  {
   "cell_type": "markdown",
   "metadata": {},
   "source": [
    "## 📊 Exercices sur les Statistiques de Base avec NumPy\n",
    "\n",
    "\n",
    "\n",
    "### ✅ Exercice 1 : Moyenne et Médiane\n",
    "\n",
    "#### 🔹 Énoncé :\n",
    "1️⃣ Crée un tableau NumPy contenant les notes suivantes :  \n",
    "   `[12, 15, 14, 10, 18, 16, 13, 19, 10, 17]`.  \n",
    "2️⃣ Calcule et affiche la **moyenne** des notes.  \n",
    "3️⃣ Calcule et affiche la **médiane** des notes.  "
   ]
  },
  {
   "cell_type": "code",
   "execution_count": 2,
   "metadata": {},
   "outputs": [
    {
     "name": "stdout",
     "output_type": "stream",
     "text": [
      "Moyenne : 14.4\n",
      "Médiane : 14.5\n"
     ]
    }
   ],
   "source": [
    "import numpy as np\n",
    "\n",
    "# Création du tableau de notes\n",
    "notes = np.array([12, 15, 14, 10, 18, 16, 13, 19, 10, 17])\n",
    "\n",
    "# Calcul de la moyenne\n",
    "moyenne = np.mean(notes)\n",
    "print(\"Moyenne :\", moyenne)\n",
    "\n",
    "# Calcul de la médiane\n",
    "mediane = np.median(notes)\n",
    "print(\"Médiane :\", mediane)"
   ]
  },
  {
   "cell_type": "markdown",
   "metadata": {},
   "source": [
    "✅ Explication :\n",
    "- np.mean() calcule la moyenne\n",
    "- np.median() trouve la médiane\n",
    "\n",
    "---"
   ]
  },
  {
   "cell_type": "markdown",
   "metadata": {},
   "source": [
    "### ✅ Exercice 2 : Variance et Écart-Type\n",
    "\n",
    "#### 🔹 Énoncé :\n",
    "1️⃣ Reprends le tableau de notes précédent.  \n",
    "2️⃣ Calcule et affiche la **variance** des notes.  \n",
    "3️⃣ Calcule et affiche l'**écart-type** des notes.  "
   ]
  },
  {
   "cell_type": "code",
   "execution_count": 3,
   "metadata": {},
   "outputs": [
    {
     "name": "stdout",
     "output_type": "stream",
     "text": [
      "Variance : 9.040000000000001\n",
      "Écart-Type : 3.006659275674582\n"
     ]
    }
   ],
   "source": [
    "# Calcul de la variance\n",
    "variance = np.var(notes)\n",
    "print(\"Variance :\", variance)\n",
    "\n",
    "# Calcul de l'écart-type\n",
    "ecart_type = np.std(notes)\n",
    "print(\"Écart-Type :\", ecart_type)"
   ]
  },
  {
   "cell_type": "markdown",
   "metadata": {},
   "source": [
    "✅ Explication :\n",
    "- np.var() retourne la dispersion des données\n",
    "- np.std() donne l'écart-type (racine carrée de la variance)\n",
    "\n",
    "---"
   ]
  },
  {
   "cell_type": "markdown",
   "metadata": {},
   "source": [
    "## ✅ Exercice 3 : Minimum, Maximum et Quartiles\n",
    "\n",
    "### 🔹 Énoncé :\n",
    "1️⃣ Trouve et affiche la **note minimale** et la **note maximale**.  \n",
    "2️⃣ Calcule et affiche le **1er quartile (Q1)** et le **3e quartile (Q3)**.  "
   ]
  },
  {
   "cell_type": "code",
   "execution_count": 4,
   "metadata": {},
   "outputs": [
    {
     "name": "stdout",
     "output_type": "stream",
     "text": [
      "Note minimale : 10\n",
      "Note maximale : 19\n",
      "1er Quartile (Q1) : 12.25\n",
      "3e Quartile (Q3) : 16.75\n"
     ]
    }
   ],
   "source": [
    "# Minimum et Maximum\n",
    "minimum = np.min(notes)\n",
    "maximum = np.max(notes)\n",
    "\n",
    "print(\"Note minimale :\", minimum)\n",
    "print(\"Note maximale :\", maximum)\n",
    "\n",
    "# Calcul des quartiles\n",
    "q1 = np.percentile(notes, 25)\n",
    "q3 = np.percentile(notes, 75)\n",
    "\n",
    "print(\"1er Quartile (Q1) :\", q1)\n",
    "print(\"3e Quartile (Q3) :\", q3)"
   ]
  },
  {
   "cell_type": "markdown",
   "metadata": {},
   "source": [
    "✅ Explication :\n",
    "- np.min() et np.max() donnent la valeur la plus basse et la plus haute\n",
    "- np.percentile(notes, 25) donne le 1er quartile (25% des valeurs en dessous)\n",
    "- np.percentile(notes, 75) donne le 3e quartile (75% des valeurs en dessous)\n",
    "\n",
    "---"
   ]
  },
  {
   "cell_type": "markdown",
   "metadata": {},
   "source": [
    "## ✅ Exercice 4 : Distribution et Histogramme\n",
    "\n",
    "### 🔹 Énoncé :\n",
    "1️⃣ Générez **1000 valeurs aléatoires** suivant une distribution normale de **moyenne 50** et **écart-type 10**.  \n",
    "2️⃣ Tracez l’**histogramme** de la distribution obtenue.  "
   ]
  },
  {
   "cell_type": "code",
   "execution_count": 5,
   "metadata": {},
   "outputs": [
    {
     "data": {
      "image/png": "[encoded data removed]",
      "text/plain": [
       "<Figure size 640x480 with 1 Axes>"
      ]
     },
     "metadata": {},
     "output_type": "display_data"
    }
   ],
   "source": [
    "import matplotlib.pyplot as plt\n",
    "\n",
    "# Génération des données\n",
    "data = np.random.normal(50, 10, 1000)\n",
    "\n",
    "# Affichage de l'histogramme\n",
    "plt.hist(data, bins=30, color='blue', alpha=0.7, edgecolor='black')\n",
    "plt.xlabel('Valeurs')\n",
    "plt.ylabel('Fréquence')\n",
    "plt.title('Histogramme de la distribution normale')\n",
    "plt.show()"
   ]
  },
  {
   "cell_type": "markdown",
   "metadata": {},
   "source": [
    "✅ Explication :\n",
    "- np.random.normal(moyenne, écart-type, taille) génère des valeurs normales\n",
    "- plt.hist() trace un histogramme des valeurs générées"
   ]
  },
  {
   "cell_type": "markdown",
   "metadata": {},
   "source": []
  },
  {
   "cell_type": "markdown",
   "metadata": {},
   "source": [
    "## ✅ Exercice 5 : Corrélation entre Deux Variables\n",
    "\n",
    "### 🔹 Énoncé :\n",
    "1️⃣ Générer deux tableaux de **50 valeurs aléatoires** suivant une distribution normale.  \n",
    "2️⃣ Calculer et afficher le **coefficient de corrélation** entre ces deux variables.  \n",
    "\n",
    "---\n",
    "\n",
    "🎯 **À toi de jouer !** 🚀"
   ]
  },
  {
   "cell_type": "code",
   "execution_count": 6,
   "metadata": {},
   "outputs": [
    {
     "name": "stdout",
     "output_type": "stream",
     "text": [
      "Coefficient de corrélation : -0.07022357076366056\n"
     ]
    }
   ],
   "source": [
    "# Génération des données\n",
    "x = np.random.normal(10, 2, 50)\n",
    "y = np.random.normal(20, 5, 50)\n",
    "\n",
    "# Calcul de la corrélation\n",
    "correlation = np.corrcoef(x, y)[0, 1]\n",
    "print(\"Coefficient de corrélation :\", correlation)"
   ]
  },
  {
   "cell_type": "markdown",
   "metadata": {},
   "source": [
    "👉 Interprétation :\n",
    "\n",
    "- Proche de 1 → Corrélation positive forte (x et y varient ensemble)\n",
    "- Proche de -1 → Corrélation négative forte (quand x augmente, y diminue)\n",
    "- Proche de 0 → Pas de corrélation"
   ]
  },
  {
   "cell_type": "markdown",
   "metadata": {},
   "source": [
    "✅ Explication :\n",
    "- np.corrcoef(x, y)[0, 1] donne le coefficient de Pearson entre x et y\n",
    "- Une valeur proche de 1 signifie une forte corrélation positive\n",
    "- Une valeur proche de -1 signifie une forte corrélation négative\n",
    "\n",
    "### `np.random.normal(10, 2, 50)`\n",
    "\n",
    "Cette fonction génère des nombres aléatoires suivant une **distribution normale (gaussienne)**.\n",
    "\n",
    "### Décomposition :\n",
    "- `10` → **Moyenne** de la distribution (centre de la courbe)\n",
    "- `2` → **Écart-type** (dispersion des valeurs autour de la moyenne)\n",
    "- `50` → **Nombre de valeurs** générées\n",
    "\n",
    "👉 Génère 50 nombres centrés autour de 10, avec une dispersion moyenne de 2.\n",
    "\n",
    "### `np.corrcoef(x, y)[0, 1]`\n",
    "Cette fonction calcule la matrice de corrélation entre deux tableaux de valeurs.\n",
    "\n",
    "### Décomposition :\n",
    "np.corrcoef(x, y) retourne une matrice 2x2 contenant les coefficients de corrélation :\n",
    "\n",
    "- corr(x, x) = 1 (corrélation avec soi-même)\n",
    "- corr(y, y) = 1\n",
    "- corr(x, y) = corr(y, x)\n",
    "- [0, 1] permet d’extraire le coefficient de corrélation entre x et y."
   ]
  },
  {
   "cell_type": "markdown",
   "metadata": {},
   "source": [
    "# 💡 Exercice : Statistiques de base avec NumPy\n",
    "\n",
    "### 1️⃣ Crée un tableau NumPy avec 15 nombres aléatoires entre 1 et 50.\n",
    "### 2️⃣ Calcule et affiche :\n",
    "   - La **moyenne**\n",
    "   - La **médiane**\n",
    "   - La **variance**\n",
    "   - L'**écart-type**\n",
    "### 3️⃣ Génère une distribution normale de 20 valeurs avec :\n",
    "   - **Moyenne** = 10\n",
    "   - **Écart-type** = 2  \n",
    "   Puis affiche la distribution."
   ]
  },
  {
   "cell_type": "code",
   "execution_count": 8,
   "metadata": {},
   "outputs": [
    {
     "name": "stdout",
     "output_type": "stream",
     "text": [
      "Tableau de nombres aléatoires : [41 10 12 14 50 46 32 48 10 46 17 30 28 30  2]\n",
      "Moyenne : 27.733333333333334\n",
      "Médiane : 30.0\n",
      "Variance : 241.3955555555556\n",
      "Écart-type : 15.536909459591879\n",
      "Distribution normale : [ 7.29503749 16.40901173 14.15509684  9.63645801 10.80216165  9.48333432\n",
      " 10.81919673 13.72438653  8.83355476  9.76808723  8.03316075  6.52434497\n",
      "  9.208031   13.26166818  9.0552994   9.06247572  6.37433911 14.79679721\n",
      " 10.42866957  9.84860352]\n"
     ]
    }
   ],
   "source": [
    "import numpy as np\n",
    "\n",
    "# 1️⃣ Création d'un tableau avec 15 nombres aléatoires entre 1 et 50\n",
    "data = np.random.randint(1, 51, 15)\n",
    "print(\"Tableau de nombres aléatoires :\", data)\n",
    "\n",
    "# 2️⃣ Calcul des statistiques de base\n",
    "moyenne = np.mean(data)\n",
    "mediane = np.median(data)\n",
    "variance = np.var(data)\n",
    "ecart_type = np.std(data)\n",
    "\n",
    "print(\"Moyenne :\", moyenne)\n",
    "print(\"Médiane :\", mediane)\n",
    "print(\"Variance :\", variance)\n",
    "print(\"Écart-type :\", ecart_type)\n",
    "\n",
    "# 3️⃣ Génération d'une distribution normale (moyenne=10, écart-type=2, 20 valeurs)\n",
    "distribution_normale = np.random.normal(10, 2, 20)\n",
    "print(\"Distribution normale :\", distribution_normale)"
   ]
  },
  {
   "cell_type": "markdown",
   "metadata": {},
   "source": []
  }
 ],
 "metadata": {
  "kernelspec": {
   "display_name": "env",
   "language": "python",
   "name": "python3"
  },
  "language_info": {
   "codemirror_mode": {
    "name": "ipython",
    "version": 3
   },
   "file_extension": ".py",
   "mimetype": "text/x-python",
   "name": "python",
   "nbconvert_exporter": "python",
   "pygments_lexer": "ipython3",
   "version": "3.13.2"
  }
 },
 "nbformat": 4,
 "nbformat_minor": 2
}
